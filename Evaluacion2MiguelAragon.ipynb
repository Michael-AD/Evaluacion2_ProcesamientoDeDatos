{
 "cells": [
  {
   "cell_type": "markdown",
   "id": "9ef3c0b4-675e-4ae3-ab8f-8ee2fad4b8a7",
   "metadata": {},
   "source": [
    "## Parte 1: Creación y manipulación de arrays\n",
    "\n",
    "### 1.1 Crear un array\n",
    "Crea un array de 10 elementos enteros aleatorios entre 1 y 100. Imprime el array generado."
   ]
  },
  {
   "cell_type": "code",
   "execution_count": 2,
   "id": "946c9d7a-1397-43b5-8add-327f2aee734a",
   "metadata": {},
   "outputs": [
    {
     "name": "stdout",
     "output_type": "stream",
     "text": [
      "Array original: [92 17  7 30 27 21 39 49 43 65]\n"
     ]
    }
   ],
   "source": [
    "import numpy as np\n",
    "array = np.random.randint(1, 101, size=10)\n",
    "print(\"Array original:\", array)\n"
   ]
  },
  {
   "cell_type": "markdown",
   "id": "713ec9c0-9cde-42fa-9857-18597f448561",
   "metadata": {},
   "source": [
    "En esta primera sección, se utiliza la función `np.random.randint` para generar un array de 10 números enteros aleatorios entre 1 y 100. La función recibe como parámetros el rango y el tamaño del array."
   ]
  },
  {
   "cell_type": "markdown",
   "id": "d683bdd5-e970-4e9e-aa64-8b31e57a4f4e",
   "metadata": {},
   "source": [
    "### 1.2 Reshape\n",
    "A partir del array anterior, convierte este array en una matriz de 2x5."
   ]
  },
  {
   "cell_type": "code",
   "execution_count": 4,
   "id": "0a060ccc-c93a-4c68-bfa9-4632ea300149",
   "metadata": {},
   "outputs": [
    {
     "name": "stdout",
     "output_type": "stream",
     "text": [
      "\n",
      "Matriz 2x5:\n",
      " [[92 17  7 30 27]\n",
      " [21 39 49 43 65]]\n"
     ]
    }
   ],
   "source": [
    "matriz = array.reshape(2, 5)\n",
    "print(\"\\nMatriz 2x5:\\n\", matriz)"
   ]
  },
  {
   "cell_type": "markdown",
   "id": "e0b5cce8-5595-47b8-bede-437f84e38f82",
   "metadata": {},
   "source": [
    "Para convertir el array en una matriz de 2 filas y 5 columnas, se utiliza la función `reshape`. El número total de elementos debe coincidir con el tamaño original del array, por lo que el tamaño resultante es 2x5."
   ]
  },
  {
   "cell_type": "markdown",
   "id": "6f46c33a-6788-47d2-a18f-3980d9ec8822",
   "metadata": {},
   "source": [
    "### 1.3 Indexación y slicing\n",
    "De la matriz obtenida, extrae la primera fila y la última columna. Imprime ambos resultados por separado."
   ]
  },
  {
   "cell_type": "code",
   "execution_count": 5,
   "id": "1e50e977-4113-46de-8cc8-b37ec7da090f",
   "metadata": {},
   "outputs": [
    {
     "name": "stdout",
     "output_type": "stream",
     "text": [
      "\n",
      "Primera fila: [92 17  7 30 27]\n",
      "Última columna: [27 65]\n"
     ]
    }
   ],
   "source": [
    "primera_fila = matriz[0, :]\n",
    "print(\"\\nPrimera fila:\", primera_fila)\n",
    "\n",
    "ultima_columna = matriz[:, -1]\n",
    "print(\"Última columna:\", ultima_columna)"
   ]
  },
  {
   "cell_type": "markdown",
   "id": "dcec52eb-aece-4233-b882-acee528f050d",
   "metadata": {},
   "source": [
    "Utilizamos indexación para extraer la primera fila (`matriz[0, :]`) y la última columna (`matriz[:, -1]`). En NumPy, el operador `:` significa \"todas las filas\" o \"todas las columnas\", dependiendo de su posición."
   ]
  },
  {
   "cell_type": "markdown",
   "id": "3887d3ef-a2b2-4474-a123-11a548300776",
   "metadata": {},
   "source": [
    "### 1.4 Modificación\n",
    "Cambia el valor de los elementos en la segunda fila a ceros."
   ]
  },
  {
   "cell_type": "code",
   "execution_count": 13,
   "id": "2c32b87d-0606-4f57-91c9-a6a4d1852477",
   "metadata": {},
   "outputs": [
    {
     "name": "stdout",
     "output_type": "stream",
     "text": [
      "\n",
      "Segunda fila modificada:\n",
      " [[92 17  7 30 27]\n",
      " [ 0  0  0  0  0]]\n"
     ]
    }
   ],
   "source": [
    "matriz[1, :] = 0\n",
    "print(\"\\nSegunda fila modificada:\\n\", matriz)"
   ]
  },
  {
   "cell_type": "markdown",
   "id": "74286641-7a40-4b74-8e0e-60c1f1a45e25",
   "metadata": {},
   "source": [
    "Aquí, modificamos todos los elementos de la segunda fila de la matriz para que sean ceros. Esto se hace mediante indexación asignando el valor `0` a toda la fila con `matriz[1, :] = 0`."
   ]
  },
  {
   "cell_type": "markdown",
   "id": "bd3c8b80-fbf0-4a6c-b4a0-60c1723257f4",
   "metadata": {},
   "source": [
    "## Parte 2: Operaciones básicas con NumPy\n",
    "\n",
    "### 2.1 Operaciones aritméticas\n",
    "\n",
    "- Crea dos arrays de 5 elementos enteros aleatorios entre 1 y 50.\n",
    "- Suma ambos arrays y luego multiplícalos entre sí.\n",
    "- Calcula el promedio y la desviación estándar de los resultados obtenidos."
   ]
  },
  {
   "cell_type": "code",
   "execution_count": 14,
   "id": "4ed5210e-f012-465f-bb61-6eff896dd0b9",
   "metadata": {},
   "outputs": [
    {
     "name": "stdout",
     "output_type": "stream",
     "text": [
      "\n",
      "Array 1: [16  3 22  2 35]\n",
      "Array 2: [18 27 49  8 48]\n",
      "\n",
      "Suma de los arrays: [34 30 71 10 83]\n",
      "Multiplicación de los arrays: [ 288   81 1078   16 1680]\n",
      "\n",
      "Promedio de la suma: 45.6\n",
      "Desviación estándar de la suma: 27.163210414087654\n",
      "Promedio de la multiplicación: 628.6\n",
      "Desviación estándar de la multiplicación: 647.8510940023178\n"
     ]
    }
   ],
   "source": [
    "array1 = np.random.randint(1, 51, size=5)\n",
    "array2 = np.random.randint(1, 51, size=5)\n",
    "print(\"\\nArray 1:\", array1)\n",
    "print(\"Array 2:\", array2)\n",
    "\n",
    "suma = array1 + array2\n",
    "print(\"\\nSuma de los arrays:\", suma)\n",
    "\n",
    "multiplicacion = array1 * array2\n",
    "print(\"Multiplicación de los arrays:\", multiplicacion)\n",
    "\n",
    "promedio_suma = np.mean(suma)\n",
    "desviacion_suma = np.std(suma)\n",
    "promedio_mult = np.mean(multiplicacion)\n",
    "desviacion_mult = np.std(multiplicacion)\n",
    "\n",
    "print(\"\\nPromedio de la suma:\", promedio_suma)\n",
    "print(\"Desviación estándar de la suma:\", desviacion_suma)\n",
    "print(\"Promedio de la multiplicación:\", promedio_mult)\n",
    "print(\"Desviación estándar de la multiplicación:\", desviacion_mult)\n"
   ]
  },
  {
   "cell_type": "markdown",
   "id": "85dd4fa2-5bd3-4a0d-b731-7d14b5aeb73e",
   "metadata": {},
   "source": [
    "En esta sección, generamos dos arrays aleatorios de 5 elementos con valores entre 1 y 50. Luego, sumamos y multiplicamos los arrays elemento por elemento. Finalmente, utilizamos las funciones `mean()` y `std()` de NumPy para calcular el promedio y la desviación estándar de los resultados."
   ]
  },
  {
   "cell_type": "markdown",
   "id": "10b129bf-b71d-4f25-ae87-715d40926d9b",
   "metadata": {},
   "source": [
    "### 2.2 Condiciones lógicas\n",
    "Genera un array de 20 números aleatorios entre 0 y 1. Usa condiciones lógicas para:\n",
    "\n",
    "- Reemplazar los valores menores a 0.5 con 0.\n",
    "- Reemplazar los valores mayores o iguales a 0.5 con 1."
   ]
  },
  {
   "cell_type": "code",
   "execution_count": 15,
   "id": "fdf3e961-0e4c-43a9-879d-7e8ea4d0aab2",
   "metadata": {},
   "outputs": [
    {
     "name": "stdout",
     "output_type": "stream",
     "text": [
      "\n",
      "Array aleatorio original:\n",
      " [0.13342073 0.82946975 0.64945467 0.89005812 0.04478245 0.08040803\n",
      " 0.61860107 0.46222078 0.39033566 0.5240669  0.68492319 0.83105798\n",
      " 0.02476276 0.35910225 0.90601459 0.12093813 0.22147193 0.57779471\n",
      " 0.28756288 0.43522835]\n",
      "\n",
      "Array modificado con condiciones lógicas:\n",
      " [0. 1. 1. 1. 0. 0. 1. 0. 0. 1. 1. 1. 0. 0. 1. 0. 0. 1. 0. 0.]\n"
     ]
    }
   ],
   "source": [
    "array_random = np.random.rand(20)\n",
    "print(\"\\nArray aleatorio original:\\n\", array_random)\n",
    "\n",
    "array_random[array_random < 0.5] = 0\n",
    "\n",
    "array_random[array_random >= 0.5] = 1\n",
    "\n",
    "print(\"\\nArray modificado con condiciones lógicas:\\n\", array_random)\n"
   ]
  },
  {
   "cell_type": "markdown",
   "id": "88f56f2a-1951-4bc7-b9f7-120c8159859a",
   "metadata": {},
   "source": [
    "Aquí, generamos un array de 20 números aleatorios entre 0 y 1 utilizando `np.random.rand()`. Luego aplicamos condiciones lógicas: los valores menores a 0.5 son reemplazados por `0`, y los valores iguales o mayores a 0.5 por `1`. "
   ]
  },
  {
   "cell_type": "markdown",
   "id": "753141e9-d018-43dd-b352-86bcfd9b5309",
   "metadata": {},
   "source": [
    "### 2.3 Producto escalar\n",
    "Crea dos arrays de tamaño 3x3. Calcula el producto escalar entre ambos."
   ]
  },
  {
   "cell_type": "code",
   "execution_count": 16,
   "id": "663bbedf-968c-4c5d-bc94-d5830b4d73fb",
   "metadata": {},
   "outputs": [
    {
     "name": "stdout",
     "output_type": "stream",
     "text": [
      "\n",
      "Matriz 1:\n",
      " [[7 9 6]\n",
      " [9 8 4]\n",
      " [9 8 9]]\n",
      "Matriz 2:\n",
      " [[6 5 9]\n",
      " [5 9 1]\n",
      " [7 9 8]]\n",
      "\n",
      "Producto escalar entre las matrices:\n",
      " [[129 170 120]\n",
      " [122 153 121]\n",
      " [157 198 161]]\n"
     ]
    }
   ],
   "source": [
    "matriz1 = np.random.randint(1, 10, size=(3, 3))\n",
    "matriz2 = np.random.randint(1, 10, size=(3, 3))\n",
    "\n",
    "print(\"\\nMatriz 1:\\n\", matriz1)\n",
    "print(\"Matriz 2:\\n\", matriz2)\n",
    "\n",
    "producto_escalar = np.dot(matriz1, matriz2)\n",
    "print(\"\\nProducto escalar entre las matrices:\\n\", producto_escalar)"
   ]
  },
  {
   "cell_type": "markdown",
   "id": "5c3a4231-4d97-4526-b15e-bb31552b4137",
   "metadata": {},
   "source": [
    "Creamos dos matrices de tamaño 3x3 y calculamos el producto escalar entre ellas utilizando la función `np.dot()`."
   ]
  },
  {
   "cell_type": "markdown",
   "id": "d4854b74-5275-44e1-bced-7d5442409316",
   "metadata": {},
   "source": [
    "## Parte 3: Análisis de datos con NumPy\n",
    "\n",
    "### 3.1 Matriz de datos\n",
    "Crea una matriz de 5 filas y 4 columnas que contenga datos aleatorios entre 1 y 20. Cada fila representa a una persona, y cada columna representa una medición diferente (como altura, peso, edad, presión arterial)."
   ]
  },
  {
   "cell_type": "code",
   "execution_count": 17,
   "id": "323be545-9eb3-464d-b8a0-159e7c39218c",
   "metadata": {},
   "outputs": [
    {
     "name": "stdout",
     "output_type": "stream",
     "text": [
      "\n",
      "Matriz de datos (personas vs mediciones):\n",
      " [[10 18  8 17]\n",
      " [10 15  9 10]\n",
      " [14 20 18  5]\n",
      " [ 4 14 16  4]\n",
      " [13 11 20 16]]\n"
     ]
    }
   ],
   "source": [
    "datos = np.random.randint(1, 21, size=(5, 4))\n",
    "print(\"\\nMatriz de datos (personas vs mediciones):\\n\", datos)"
   ]
  },
  {
   "cell_type": "markdown",
   "id": "32017ad8-9cc8-4777-afb2-5c4f0303ca9e",
   "metadata": {},
   "source": [
    "Creamos una matriz de 5 filas y 4 columnas donde cada fila representa a una persona y cada columna una medición. Los valores son generados aleatoriamente entre 1 y 20."
   ]
  },
  {
   "cell_type": "markdown",
   "id": "7f4b6036-a631-41de-9089-1ddcb1ef0997",
   "metadata": {},
   "source": [
    "### 3.2 Estadísticas\n",
    "- Calcula la media de cada columna (medición).\n",
    "- Encuentra el valor máximo y mínimo de cada fila.\n",
    "- Ordena las filas según los valores de la segunda columna (peso)."
   ]
  },
  {
   "cell_type": "code",
   "execution_count": 19,
   "id": "8acb70db-e772-439f-8051-f711cc46fbf3",
   "metadata": {},
   "outputs": [
    {
     "name": "stdout",
     "output_type": "stream",
     "text": [
      "\n",
      "Media de cada columna: [10.2 15.6 14.2 10.4]\n",
      "Máximo de cada fila: [18 15 20 16 20]\n",
      "Mínimo de cada fila: [ 8  9  5  4 11]\n",
      "\n",
      "Matriz ordenada por la segunda columna (peso):\n",
      " [[13 11 20 16]\n",
      " [ 4 14 16  4]\n",
      " [10 15  9 10]\n",
      " [10 18  8 17]\n",
      " [14 20 18  5]]\n"
     ]
    }
   ],
   "source": [
    "media_columnas = np.mean(datos, axis=0)\n",
    "print(\"\\nMedia de cada columna:\", media_columnas)\n",
    "\n",
    "max_filas = np.max(datos, axis=1)\n",
    "min_filas = np.min(datos, axis=1)\n",
    "\n",
    "print(\"Máximo de cada fila:\", max_filas)\n",
    "print(\"Mínimo de cada fila:\", min_filas)\n",
    "\n",
    "datos_ordenados = datos[datos[:, 1].argsort()]\n",
    "print(\"\\nMatriz ordenada por la segunda columna (peso):\\n\", datos_ordenados)"
   ]
  },
  {
   "cell_type": "markdown",
   "id": "f45f1e32-eaca-4071-995b-bc1d1b9f7f82",
   "metadata": {},
   "source": [
    "Primero, calculamos la media de cada columna utilizando `np.mean()`. Luego, encontramos el valor máximo y mínimo de cada fila con `np.max()` y `np.min()`. Finalmente, ordenamos las filas de la matriz de acuerdo con los valores de la segunda columna usando `argsort()`."
   ]
  }
 ],
 "metadata": {
  "kernelspec": {
   "display_name": "Python 3 (ipykernel)",
   "language": "python",
   "name": "python3"
  },
  "language_info": {
   "codemirror_mode": {
    "name": "ipython",
    "version": 3
   },
   "file_extension": ".py",
   "mimetype": "text/x-python",
   "name": "python",
   "nbconvert_exporter": "python",
   "pygments_lexer": "ipython3",
   "version": "3.12.2"
  }
 },
 "nbformat": 4,
 "nbformat_minor": 5
}
